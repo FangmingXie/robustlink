{
 "cells": [
  {
   "cell_type": "code",
   "execution_count": 1,
   "id": "cbd0184e-a430-46db-bc1a-630fd0efcd45",
   "metadata": {},
   "outputs": [
    {
     "name": "stderr",
     "output_type": "stream",
     "text": [
      "/Users/fangmingxie/opt/anaconda3/envs/robustlink3/lib/python3.8/site-packages/anndata/core/anndata.py:17: FutureWarning: pandas.core.index is deprecated and will be removed in a future version. The public classes are available in the top-level namespace.\n",
      "  from pandas.core.index import RangeIndex\n"
     ]
    }
   ],
   "source": [
    "from scipy import sparse\n",
    "import pickle\n",
    "import argparse\n",
    "import logging\n",
    "import pandas as pd\n",
    "import numpy as np\n",
    "import anndata\n",
    "\n",
    "from robustlink import utils\n",
    "from robustlink import enhancer_gene_utils"
   ]
  },
  {
   "cell_type": "code",
   "execution_count": 12,
   "id": "55b7e2bb-7680-4141-9f93-63641982fcbc",
   "metadata": {},
   "outputs": [],
   "source": [
    "mod_x = 'rna'\n",
    "mod_y = 'mc'\n",
    "input_name_tag = ''\n",
    "\n",
    "modx = mod_x\n",
    "mody = mod_y\n",
    "ka = 30\n",
    "knn = 30\n",
    "date = 211115\n",
    "input_name_tag=f\"mop_{modx}_{mody}_ka{ka}_knn{knn}_{date}\" # \n",
    "i_sub = 0"
   ]
  },
  {
   "cell_type": "code",
   "execution_count": 13,
   "id": "4d41e215-0c31-4754-a3e3-ed792431b984",
   "metadata": {},
   "outputs": [],
   "source": [
    "# input enh-gene tables, gene-by-cell, enhancer-by-cell matrices\n",
    "input_enh_gene_table = './data/counts/enhancer_gene_pairs_1mbp.tsv' \n",
    "input_bundle_dirc = './data/counts'\n",
    "bundle_fnames = (\n",
    "    'cell_rna.pkl',\n",
    "    'cell_mc.pkl',\n",
    "\n",
    "    'gene_rna.pkl',\n",
    "    'enh.pkl',\n",
    "\n",
    "    'mat_rna.pkl',\n",
    "    'mat_mcg_mc.pkl',\n",
    "    'mat_cg_mc.pkl',\n",
    ")\n",
    "\n",
    "# for knn_xx\n",
    "input_knn_dirc = './results'\n",
    "input_modx_clsts = [\n",
    "    'clusterings_{}_{}_sub{}.tsv.gz'.format(mod_x, input_name_tag, i_sub),\n",
    "]\n",
    "\n",
    "# for knn_xy\n",
    "input_knn_xy = 'knn_across_{}_{}_{}.npz.{}.npz'.format(input_name_tag, mod_x, mod_y, i_sub) \n",
    "input_knn_cells_xaxis = 'cells_{}_{}.npy.{}.npy'.format(mod_x, input_name_tag, i_sub)\n",
    "input_knn_cells_yaxis = 'cells_{}_{}.npy.{}.npy'.format(mod_y, input_name_tag, i_sub)"
   ]
  },
  {
   "cell_type": "code",
   "execution_count": 14,
   "id": "0fa251ea-7f79-41f3-b98d-e07d8e752c97",
   "metadata": {},
   "outputs": [
    {
     "name": "stderr",
     "output_type": "stream",
     "text": [
      "/var/folders/5t/5ql_465s2w7g1s3t2c4ttz7c0000gp/T/ipykernel_79041/29806297.py:7: DeprecationWarning: Please use `csc_matrix` from the `scipy.sparse` namespace, the `scipy.sparse.csc` namespace is deprecated.\n",
      "  item = pickle.load(fh)\n",
      "\n",
      "KeyboardInterrupt\n",
      "\n"
     ]
    }
   ],
   "source": [
    "# input_bundle\n",
    "with utils.cd(input_bundle_dirc):\n",
    "    bundle = []\n",
    "    for fname in bundle_fnames:\n",
    "        #  save all as pickle file\n",
    "        with open(fname, \"rb\") as fh:\n",
    "            item = pickle.load(fh)\n",
    "        bundle.append(item)\n",
    "        logging.info(\"{}_{}_{}\".format(type(item), item.shape, fname))\n",
    "\n",
    "(common_rna_cells, common_mc_cells, \n",
    " common_genes, \n",
    " common_enhancer_regions,\n",
    " X, Y_mcg, Y_cg, \n",
    "#  knn_xy, knn_xx,\n",
    ") = bundle"
   ]
  },
  {
   "cell_type": "code",
   "execution_count": 5,
   "id": "52c98151-9a4d-4786-9c85-f311952f3211",
   "metadata": {},
   "outputs": [
    {
     "data": {
      "text/plain": [
       "AnnData object with n_obs × n_vars = 31053 × 69727 "
      ]
     },
     "execution_count": 5,
     "metadata": {},
     "output_type": "execute_result"
    }
   ],
   "source": [
    "rna_data = anndata.AnnData(\n",
    "    X=X, \n",
    "    obs=pd.DataFrame(index=common_genes.astype(str)),\n",
    "    var=pd.DataFrame(index=common_rna_cells.astype(str)),\n",
    ")\n",
    "rna_data"
   ]
  },
  {
   "cell_type": "code",
   "execution_count": 6,
   "id": "54d2a527-3924-4078-9925-3fe8f3788c2c",
   "metadata": {},
   "outputs": [],
   "source": [
    "rna_data.write('./newdata/gene_rna_counts.h5ad')"
   ]
  },
  {
   "cell_type": "code",
   "execution_count": 7,
   "id": "f90018c9-2ebb-459d-9c8f-a0c6813fec89",
   "metadata": {},
   "outputs": [
    {
     "name": "stderr",
     "output_type": "stream",
     "text": [
      "Transforming to str index.\n"
     ]
    },
    {
     "data": {
      "text/plain": [
       "AnnData object with n_obs × n_vars = 233514 × 9931 \n",
       "    obs: 'chr', 'start', 'end'\n",
       "    layers: 'mcg', 'cg'"
      ]
     },
     "execution_count": 7,
     "metadata": {},
     "output_type": "execute_result"
    }
   ],
   "source": [
    "enh_data = anndata.AnnData(\n",
    "                X=None,\n",
    "                obs=common_enhancer_regions.astype({'chr': '|S'}),\n",
    "                var=pd.DataFrame(index=common_mc_cells.astype(str)),\n",
    "                )\n",
    "enh_data.layers['mcg'] = Y_mcg\n",
    "enh_data.layers['cg'] = Y_cg\n",
    "enh_data"
   ]
  },
  {
   "cell_type": "code",
   "execution_count": 8,
   "id": "88c9aa6b-9063-4100-9c0c-ab91ef187fbb",
   "metadata": {},
   "outputs": [
    {
     "name": "stderr",
     "output_type": "stream",
     "text": [
      "/Users/fangmingxie/opt/anaconda3/envs/robustlink3/lib/python3.8/site-packages/anndata/core/anndata.py:1328: FutureWarning: is_categorical is deprecated and will be removed in a future version. Use is_categorical_dtype instead.\n",
      "  and not is_categorical(df[key])\n",
      "... storing 'chr' as categorical\n",
      "/Users/fangmingxie/opt/anaconda3/envs/robustlink3/lib/python3.8/site-packages/anndata/core/anndata.py:108: FutureWarning: is_categorical is deprecated and will be removed in a future version. Use is_categorical_dtype instead.\n",
      "  elif is_categorical(df[k]):\n"
     ]
    }
   ],
   "source": [
    "enh_data.write('./newdata/enh_mc_counts.h5ad')"
   ]
  },
  {
   "cell_type": "markdown",
   "id": "c1d99ab4-bd56-49a5-b180-d37c5aee8d1a",
   "metadata": {},
   "source": [
    "# check the data is alright"
   ]
  },
  {
   "cell_type": "markdown",
   "id": "b9762c7c-4dff-4f45-bbc0-fd2c33d412cc",
   "metadata": {},
   "source": [
    "# save knn_xy as AnnData"
   ]
  },
  {
   "cell_type": "code",
   "execution_count": 15,
   "id": "342a9487-615c-45b0-ae8f-eafc9297f518",
   "metadata": {},
   "outputs": [],
   "source": [
    "# input knn networks \n",
    "with utils.cd(input_knn_dirc):\n",
    "    # for knn_xx \n",
    "    # modx_clsts = pd.read_csv(input_modx_clsts, sep='\\t',index_col=0)\n",
    "    modx_clsts = pd.concat([\n",
    "        pd.read_csv(fname, sep='\\t',index_col=0)\n",
    "        for fname in input_modx_clsts\n",
    "    ], axis=1)\n",
    "    # for knn_xy \n",
    "    knn_xy = sparse.load_npz(input_knn_xy)  \n",
    "    cell_cell_knn_xaxis = np.load(input_knn_cells_xaxis, allow_pickle=True)\n",
    "    cell_cell_knn_yaxis = np.load(input_knn_cells_yaxis, allow_pickle=True)\n",
    "\n",
    "    logging.info(\"{} {} {} {}\".format(\n",
    "          modx_clsts.shape, \n",
    "          knn_xy.shape, \n",
    "          cell_cell_knn_xaxis.shape, \n",
    "          cell_cell_knn_yaxis.shape,\n",
    "          )\n",
    "         )\n",
    "\n",
    "# enhancer-gene linkage\n",
    "enhancer_gene_to_eval = pd.read_csv(input_enh_gene_table, sep='\\t')"
   ]
  },
  {
   "cell_type": "code",
   "execution_count": 29,
   "id": "18d1aa27-7c0c-4d6d-b120-2daed7a0930c",
   "metadata": {},
   "outputs": [],
   "source": [
    "aknn_xy = anndata.AnnData(X=knn_xy.tocsr(), # csr or csc?\n",
    "                obs=pd.DataFrame(index=cell_cell_knn_xaxis.astype(str)),\n",
    "                var=pd.DataFrame(index=cell_cell_knn_yaxis.astype(str)),\n",
    "                )"
   ]
  },
  {
   "cell_type": "code",
   "execution_count": 30,
   "id": "5614c275-62d1-40ed-829b-6ef3daea373a",
   "metadata": {},
   "outputs": [
    {
     "data": {
      "text/plain": [
       "AnnData object with n_obs × n_vars = 6898 × 963 "
      ]
     },
     "execution_count": 30,
     "metadata": {},
     "output_type": "execute_result"
    }
   ],
   "source": [
    "aknn_xy"
   ]
  },
  {
   "cell_type": "code",
   "execution_count": 31,
   "id": "52f091df-6650-418f-b1cf-dcd6b0d15901",
   "metadata": {},
   "outputs": [],
   "source": [
    "aknn_xy.write('./newdata/knn_xy.h5ad')"
   ]
  },
  {
   "cell_type": "markdown",
   "id": "ac0a2f99-39b6-472e-9ce1-ff8220af71dc",
   "metadata": {},
   "source": [
    "# do the same for ATAC"
   ]
  }
 ],
 "metadata": {
  "kernelspec": {
   "display_name": "Python 3 (ipykernel)",
   "language": "python",
   "name": "python3"
  },
  "language_info": {
   "codemirror_mode": {
    "name": "ipython",
    "version": 3
   },
   "file_extension": ".py",
   "mimetype": "text/x-python",
   "name": "python",
   "nbconvert_exporter": "python",
   "pygments_lexer": "ipython3",
   "version": "3.8.15"
  }
 },
 "nbformat": 4,
 "nbformat_minor": 5
}
